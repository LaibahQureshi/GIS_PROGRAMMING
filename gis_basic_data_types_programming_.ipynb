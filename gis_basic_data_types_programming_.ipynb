{
  "nbformat": 4,
  "nbformat_minor": 0,
  "metadata": {
    "colab": {
      "provenance": []
    },
    "kernelspec": {
      "name": "python3",
      "display_name": "Python 3"
    },
    "language_info": {
      "name": "python"
    }
  },
  "cells": [
    {
      "cell_type": "code",
      "execution_count": null,
      "metadata": {
        "colab": {
          "base_uri": "https://localhost:8080/"
        },
        "id": "qvhYD-J4K6ul",
        "outputId": "894d0c65-4e01-4312-e3c5-cefa19886fc5"
      },
      "outputs": [
        {
          "output_type": "stream",
          "name": "stdout",
          "text": [
            "Mounted at /content/gdrive\n"
          ]
        }
      ],
      "source": [
        "from google.colab import drive\n",
        "drive.mount('/content/gdrive')"
      ]
    },
    {
      "cell_type": "code",
      "source": [
        "## data types in geospatial context:"
      ],
      "metadata": {
        "id": "1gclVE5JK8gY"
      },
      "execution_count": 1,
      "outputs": []
    },
    {
      "cell_type": "code",
      "source": [
        "features = 500 #in dataset"
      ],
      "metadata": {
        "id": "eWNBanlOs6A4"
      },
      "execution_count": 2,
      "outputs": []
    },
    {
      "cell_type": "code",
      "source": [
        "data = { \"id\" : [1,2,3,4,5],\n",
        "        \"features\" : [\"feature A\", \"feature B\",\"feature C\",\"feature D\",\"feature E\"],\n",
        "         \"Value\" : [10,20,30,40,50]\n",
        "\n",
        "}"
      ],
      "metadata": {
        "id": "5d-fIwg1t8SL"
      },
      "execution_count": 5,
      "outputs": []
    },
    {
      "cell_type": "code",
      "source": [
        "print(data)"
      ],
      "metadata": {
        "colab": {
          "base_uri": "https://localhost:8080/"
        },
        "id": "-D33Ppyfuizj",
        "outputId": "f64b0753-063d-45c5-981a-172ceae20a1b"
      },
      "execution_count": 6,
      "outputs": [
        {
          "output_type": "stream",
          "name": "stdout",
          "text": [
            "{'id': [1, 2, 3, 4, 5], 'features': ['feature A', 'feature B', 'feature C', 'feature D', 'feature E'], 'Value': [10, 20, 30, 40, 50]}\n"
          ]
        }
      ]
    },
    {
      "cell_type": "code",
      "source": [
        "## FLOATING POINT\n",
        "latitude = 35.6895  # Represents the latitude of a point on Earth's surface\n",
        "longitude = 139.6917  # Represents the longitude of a point on Earth's surface"
      ],
      "metadata": {
        "id": "cM8yjX8Du2Xr"
      },
      "execution_count": 8,
      "outputs": []
    },
    {
      "cell_type": "code",
      "source": [
        "## What you will use to represent coordinate system?"
      ],
      "metadata": {
        "id": "hwUzBGGHvHci"
      },
      "execution_count": 9,
      "outputs": []
    },
    {
      "cell_type": "code",
      "source": [
        "#data type: string\n",
        "coordinate_system =  'WGS 1984'"
      ],
      "metadata": {
        "id": "-kp3DDBSvZI4"
      },
      "execution_count": 10,
      "outputs": []
    },
    {
      "cell_type": "code",
      "source": [
        "data = { \"id\" : [1,2,3,4,5],\n",
        "        \"features\" : [\"feature A\", \"feature B\",\"feature C\",\"feature D\",\"feature E\"],\n",
        "         \"type\" : [\"school\",\"house\",\"park\",\"market\",\"hospital\"],\n",
        "         \"Value\" : [10,20,30,40,50]\n",
        "\n",
        "}"
      ],
      "metadata": {
        "id": "iLa4_5VtvrOV"
      },
      "execution_count": 13,
      "outputs": []
    },
    {
      "cell_type": "code",
      "source": [
        "print(data)"
      ],
      "metadata": {
        "colab": {
          "base_uri": "https://localhost:8080/"
        },
        "id": "01wIYqq6y_P-",
        "outputId": "7c1619cc-9cd4-4672-b95c-6ad7c669c994"
      },
      "execution_count": 14,
      "outputs": [
        {
          "output_type": "stream",
          "name": "stdout",
          "text": [
            "{'id': [1, 2, 3, 4, 5], 'features': ['feature A', 'feature B', 'feature C', 'feature D', 'feature E'], 'type': ['school', 'house', 'park', 'market', 'hospital'], 'Value': [10, 20, 30, 40, 50]}\n"
          ]
        }
      ]
    },
    {
      "cell_type": "code",
      "source": [
        "##Booleans & dictionary:"
      ],
      "metadata": {
        "id": "3JuOIdpIzT1o"
      },
      "execution_count": 20,
      "outputs": []
    },
    {
      "cell_type": "code",
      "source": [
        "        data = { 'id' : [1,2,3,4,5],\n",
        "        \"features\" : [\"feature A\", \"feature B\",\"feature C\",\"feature D\",\"feature E\"],\n",
        "        \"type\" : [\"school\",\"house\",\"park\",\"market\",\"hospital\"],\n",
        "         \"has_parking\" : [True,False,True,False,True]}"
      ],
      "metadata": {
        "id": "DvT5xhyFz-i0"
      },
      "execution_count": 21,
      "outputs": []
    },
    {
      "cell_type": "code",
      "source": [
        "print(data)"
      ],
      "metadata": {
        "colab": {
          "base_uri": "https://localhost:8080/"
        },
        "id": "tKPk1qCV0xUU",
        "outputId": "ed48df1f-b1c5-4b6c-f1ee-62ba907f3a00"
      },
      "execution_count": 19,
      "outputs": [
        {
          "output_type": "stream",
          "name": "stdout",
          "text": [
            "{'id': [1, 2, 3, 4, 5], 'features': ['feature A', 'feature B', 'feature C', 'feature D', 'feature E'], 'type': ['school', 'house', 'park', 'market', 'hospital'], 'has_parking': [True, False, True, False, True]}\n"
          ]
        }
      ]
    },
    {
      "cell_type": "code",
      "source": [
        "coordinates_system = [(\"New York City\", \"USA\", (40.7128, 74.0060)),\n",
        "               (\"tokyo\", \"japan\",( 35.6895, 139.6917)),\n",
        "               (\"paris\", \"france\", (48.8566, 2.3522)),\n",
        "               (\"london\", \"england\", (51.5074, 0.1278)),\n",
        "               (\"berlin\", \"germany\", (52.5200, 13.4050))\n",
        "              ]"
      ],
      "metadata": {
        "id": "zScEG52804ze"
      },
      "execution_count": 32,
      "outputs": []
    },
    {
      "cell_type": "code",
      "source": [],
      "metadata": {
        "colab": {
          "base_uri": "https://localhost:8080/"
        },
        "id": "-8zV1a0431yM",
        "outputId": "7b3ecb6c-4d98-49ac-bc8b-2eb380410683"
      },
      "execution_count": 25,
      "outputs": [
        {
          "output_type": "stream",
          "name": "stdout",
          "text": [
            "[('New York City', 'USA', (40.7128, 74.006)), ('tokyo', 'japan', (35.6895, 139.6917)), ('paris', 'france', (48.8566, 2.3522)), ('london', 'england', (51.5074, 0.1278)), ('berlin', 'germany', (52.52, 13.405))]\n"
          ]
        }
      ]
    },
    {
      "cell_type": "code",
      "source": [
        "\n",
        "cities_coordinates = [\n",
        "    (\"New York City, USA\", (40.7128, -74.0060)),\n",
        "    (\"Tokyo, Japan\", (35.6895, 139.6917)),\n",
        "    (\"Sydney, Australia\", (-33.8688, 151.2093)),\n",
        "    (\"Cairo, Egypt\", (30.0444, 31.2357)),\n",
        "    (\"Paris, France\", (48.8566, 2.3522))\n",
        "]\n",
        "\n",
        "for city, coordinates in cities_coordinates:\n",
        "    print(f\"City: {city}, Coordinates: {coordinates}\")\n"
      ],
      "metadata": {
        "colab": {
          "base_uri": "https://localhost:8080/"
        },
        "id": "wakdLUji5tfC",
        "outputId": "90a03ed7-c1e2-4104-c1a5-6ca464182c58"
      },
      "execution_count": 34,
      "outputs": [
        {
          "output_type": "stream",
          "name": "stdout",
          "text": [
            "City: New York City, USA, Coordinates: (40.7128, -74.006)\n",
            "City: Tokyo, Japan, Coordinates: (35.6895, 139.6917)\n",
            "City: Sydney, Australia, Coordinates: (-33.8688, 151.2093)\n",
            "City: Cairo, Egypt, Coordinates: (30.0444, 31.2357)\n",
            "City: Paris, France, Coordinates: (48.8566, 2.3522)\n"
          ]
        }
      ]
    },
    {
      "cell_type": "code",
      "source": [
        "coordinates = (\"lahore, pakistan\", (40.7128, -74.0060))"
      ],
      "metadata": {
        "id": "OH9_8imn6YAg"
      },
      "execution_count": 38,
      "outputs": []
    },
    {
      "cell_type": "code",
      "source": [
        "cities_coordinates.append(coordinates)\n",
        "\n",
        "for city, coordinates in cities_coordinates:\n",
        "    print(f\"City: {city}, Coordinates: {coordinates}\")\n",
        "\n",
        "#print(f\"updated : {cities_coordinates}\")"
      ],
      "metadata": {
        "colab": {
          "base_uri": "https://localhost:8080/"
        },
        "id": "U2aPFQNV9A2F",
        "outputId": "bf184bf8-dbd3-4d6d-cb3f-f615306a7ca3"
      },
      "execution_count": 44,
      "outputs": [
        {
          "output_type": "stream",
          "name": "stdout",
          "text": [
            "City: New York City, USA, Coordinates: (40.7128, -74.006)\n",
            "City: Tokyo, Japan, Coordinates: (35.6895, 139.6917)\n",
            "City: Sydney, Australia, Coordinates: (-33.8688, 151.2093)\n",
            "City: Cairo, Egypt, Coordinates: (30.0444, 31.2357)\n",
            "City: Paris, France, Coordinates: (48.8566, 2.3522)\n",
            "City: lahore, pakistan, Coordinates: (40.7128, -74.006)\n",
            "City: lahore, pakistan, Coordinates: (40.7128, -74.006)\n",
            "City: lahore, pakistan, Coordinates: (40.7128, -74.006)\n",
            "City: lahore, pakistan, Coordinates: (40.7128, -74.006)\n"
          ]
        }
      ]
    },
    {
      "cell_type": "code",
      "source": [
        "##centroid\n",
        "\n",
        "points = [\n",
        "    [35.6895, 139.6917],  # Tokyo\n",
        "    [34.0522, -118.2437],  # Los Angeles\n",
        "    [51.5074, -0.1278],  # London\n",
        "    [48.8566, 2.3522],  # Paris\n",
        "]"
      ],
      "metadata": {
        "id": "7_21ii5Q-AJ1"
      },
      "execution_count": 45,
      "outputs": []
    },
    {
      "cell_type": "code",
      "source": [
        "centroid_lat = sum([point[0] for point in points]) / len(points)\n",
        "centroid_lon = sum([point[1] for point in points]) / len(points)\n",
        "centroid = [centroid_lat, centroid_lon]\n",
        "print(\"Centroid of the points is at:\", centroid)"
      ],
      "metadata": {
        "colab": {
          "base_uri": "https://localhost:8080/"
        },
        "id": "AJo3fgEy_6qX",
        "outputId": "a6635e59-2fa7-430e-98d4-5d5c81d5a875"
      },
      "execution_count": 46,
      "outputs": [
        {
          "output_type": "stream",
          "name": "stdout",
          "text": [
            "Centroid of the points is at: [42.526425, 5.918099999999998]\n"
          ]
        }
      ]
    },
    {
      "cell_type": "code",
      "source": [
        "coordinates = [\n",
        "    (34.052235, -118.243683),  # Los Angeles, CA\n",
        "    (40.712776, -74.005974),   # New York, NY\n",
        "    (48.856613, 2.352222),     # Paris, France\n",
        "    (35.689487, 139.691711),   # Tokyo, Japan\n",
        "    (51.507351, -0.127758)     # London, UK\n",
        "]\n"
      ],
      "metadata": {
        "id": "AsujpsS9_9UH"
      },
      "execution_count": 47,
      "outputs": []
    },
    {
      "cell_type": "code",
      "source": [
        "# List of tuples representing the coordinates of different cities\n",
        "coordinates = [\n",
        "    (34.052235, -118.243683),  # Los Angeles, CA\n",
        "    (40.712776, -74.005974),   # New York, NY\n",
        "    (48.856613, 2.352222),     # Paris, France\n",
        "    (35.689487, 139.691711),   # Tokyo, Japan\n",
        "    (51.507351, -0.127758)     # London, UK\n",
        "]\n",
        "\n",
        "# Calculate the centroid\n",
        "centroid_latitude = sum(coord[0] for coord in coordinates) / len(coordinates)\n",
        "centroid_longitude = sum(coord[1] for coord in coordinates) / len(coordinates)\n",
        "centroid = (centroid_latitude, centroid_longitude)\n",
        "\n",
        "# Create a dictionary to store the centroid's latitude and longitude\n",
        "centroid_dict = {\n",
        "    \"latitude\": centroid_latitude,\n",
        "    \"longitude\": centroid_longitude\n",
        "}\n",
        "\n",
        "print(centroid_dict)\n"
      ],
      "metadata": {
        "colab": {
          "base_uri": "https://localhost:8080/"
        },
        "id": "V1EAulABEG-C",
        "outputId": "1b5f4177-7993-4788-cfcb-a9cd3dea6c5c"
      },
      "execution_count": 49,
      "outputs": [
        {
          "output_type": "stream",
          "name": "stdout",
          "text": [
            "{'latitude': 42.163692399999995, 'longitude': -10.066696400000001}\n"
          ]
        }
      ]
    },
    {
      "cell_type": "code",
      "source": [],
      "metadata": {
        "id": "CREo9vWEEQLT"
      },
      "execution_count": null,
      "outputs": []
    }
  ]
}