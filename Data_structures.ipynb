{
  "nbformat": 4,
  "nbformat_minor": 0,
  "metadata": {
    "colab": {
      "provenance": []
    },
    "kernelspec": {
      "name": "python3",
      "display_name": "Python 3"
    },
    "language_info": {
      "name": "python"
    }
  },
  "cells": [
    {
      "cell_type": "code",
      "execution_count": null,
      "metadata": {
        "id": "Kbwa_DQ4CmR1"
      },
      "outputs": [],
      "source": []
    },
    {
      "cell_type": "markdown",
      "source": [
        "Create variables to store the following geospatial data:\n",
        "\n",
        "The latitude and longitude of New York City: 40.7128, -74.0060."
      ],
      "metadata": {
        "id": "AKvtqWltDLeN"
      }
    },
    {
      "cell_type": "markdown",
      "source": [
        "you can do it using a** tuple** () in simple way\n",
        "This approach is straightforward and useful when you need a simple representation of the coordinates.\n",
        "\n",
        "Ideal for scenarios where the location is understood from the context and doesn’t need a descriptive label."
      ],
      "metadata": {
        "id": "UEG2m8vxD9CH"
      }
    },
    {
      "cell_type": "code",
      "source": [
        "coordinates = (40.7128, -74.0060)\n"
      ],
      "metadata": {
        "id": "wlYYV290DNIW"
      },
      "execution_count": 2,
      "outputs": []
    },
    {
      "cell_type": "code",
      "source": [],
      "metadata": {
        "id": "ncxL81zYESn8"
      },
      "execution_count": null,
      "outputs": []
    },
    {
      "cell_type": "markdown",
      "source": [
        "**Using a dictionary**\n",
        "\n",
        "This method is more descriptive and useful if you plan to store multiple locations and their coordinates.\n",
        "\n",
        "It makes your code more readable and organized, especially when dealing with numerous locations."
      ],
      "metadata": {
        "id": "v1G963kqEP86"
      }
    },
    {
      "cell_type": "code",
      "source": [
        "coordinate = {\"New York City\" : (40.7128, -74.0060)}"
      ],
      "metadata": {
        "id": "vZRHYdiMDUB9"
      },
      "execution_count": null,
      "outputs": []
    },
    {
      "cell_type": "markdown",
      "source": [
        "For example, if you're handling multiple cities, the dictionary approach is advantageous"
      ],
      "metadata": {
        "id": "P8ZUhEUqEi1N"
      }
    },
    {
      "cell_type": "code",
      "source": [
        "coordinates = {\n",
        "    \"New York City\": (40.7128, -74.0060),\n",
        "    \"Los Angeles\": (34.0522, -118.2437),\n",
        "    \"Chicago\": (41.8781, -87.6298)\n",
        "}"
      ],
      "metadata": {
        "id": "PmRZuXwJEno7"
      },
      "execution_count": 3,
      "outputs": []
    },
    {
      "cell_type": "markdown",
      "source": [
        "The population of New York City: 8,336,817.\n",
        "\n",
        "The area of New York City in square kilometers: 783.8\n"
      ],
      "metadata": {
        "id": "dqCcO5AMEeod"
      }
    },
    {
      "cell_type": "code",
      "source": [
        "NY = {\n",
        "    \"New York City\": (40.7128, -74.0060),\n",
        "    \"Population\": 8_336_817,\n",
        "    \"Area\": 783.8\n",
        "}"
      ],
      "metadata": {
        "id": "wpn7K5CZEfaD"
      },
      "execution_count": 7,
      "outputs": []
    },
    {
      "cell_type": "markdown",
      "source": [
        "Dictionaries in Python are incredibly versatile and can hold multiple data types, making them perfect for storing diverse types of information. As I've demonstrated with your \"NY\" dictionary, you can store geospatial data, population numbers, and area measurements all within a single dictionary."
      ],
      "metadata": {
        "id": "Z2WcII4ZFt8l"
      }
    },
    {
      "cell_type": "code",
      "source": [
        "lat,long = coordinates[\"New York City\"]"
      ],
      "metadata": {
        "id": "IfXZMSizFJo3"
      },
      "execution_count": 8,
      "outputs": []
    },
    {
      "cell_type": "code",
      "source": [
        "print(f'latitude = {lat}\\n longitude = {long}')"
      ],
      "metadata": {
        "colab": {
          "base_uri": "https://localhost:8080/"
        },
        "id": "u1m8b9hXF_Zo",
        "outputId": "bb6e23ea-d96c-45c2-d41a-7b6951da26f3"
      },
      "execution_count": 12,
      "outputs": [
        {
          "output_type": "stream",
          "name": "stdout",
          "text": [
            "latitude = 40.7128\n",
            " longitude = -74.006\n"
          ]
        }
      ]
    },
    {
      "cell_type": "markdown",
      "source": [
        "Calculate and print the population density of New York City (population per square kilometer)."
      ],
      "metadata": {
        "id": "Lq8VB5B8Gfnj"
      }
    },
    {
      "cell_type": "code",
      "source": [
        "pop_density = NY[\"Population\"] / NY[\"Area\"]"
      ],
      "metadata": {
        "id": "ABd7cFocGgZx"
      },
      "execution_count": 13,
      "outputs": []
    },
    {
      "cell_type": "code",
      "source": [
        "print(f'popuplation density of newyork city is : {pop_density}')"
      ],
      "metadata": {
        "colab": {
          "base_uri": "https://localhost:8080/"
        },
        "id": "7vMZh4p7Gxvt",
        "outputId": "827cc240-bc21-4126-8f42-34a39e925f04"
      },
      "execution_count": 15,
      "outputs": [
        {
          "output_type": "stream",
          "name": "stdout",
          "text": [
            "popuplation density of newyork city is : 10636.408522582293\n"
          ]
        }
      ]
    },
    {
      "cell_type": "code",
      "source": [],
      "metadata": {
        "id": "GaVhSskrHBwB"
      },
      "execution_count": null,
      "outputs": []
    },
    {
      "cell_type": "markdown",
      "source": [
        "#Exercise 2:\n",
        "Working with Strings\n",
        "Create a string variable to store the name of a city, such as “San Francisco”. Perform the following operations:\n",
        "\n",
        "Convert the string to lowercase and print the result.\n",
        "\n",
        "Convert the string to uppercase and print the result.\n",
        "\n",
        "Replace “San” with “Los” in the city name and print the new string."
      ],
      "metadata": {
        "id": "z4d7Ng1XIlE3"
      }
    },
    {
      "cell_type": "code",
      "source": [
        "city =  \"San Francisco\""
      ],
      "metadata": {
        "id": "CWHC371GIl1y"
      },
      "execution_count": 25,
      "outputs": []
    },
    {
      "cell_type": "code",
      "source": [
        "city.lower()\n",
        "city.upper()"
      ],
      "metadata": {
        "colab": {
          "base_uri": "https://localhost:8080/",
          "height": 35
        },
        "id": "7rb7EOK5Ix9y",
        "outputId": "6a5b26d7-f37c-4a65-e622-334aab423152"
      },
      "execution_count": 21,
      "outputs": [
        {
          "output_type": "execute_result",
          "data": {
            "text/plain": [
              "'SAN FRANCISCO'"
            ],
            "application/vnd.google.colaboratory.intrinsic+json": {
              "type": "string"
            }
          },
          "metadata": {},
          "execution_count": 21
        }
      ]
    },
    {
      "cell_type": "code",
      "source": [
        "up = city.replace(\"San\",\"Los\")\n",
        "print(up)"
      ],
      "metadata": {
        "colab": {
          "base_uri": "https://localhost:8080/"
        },
        "id": "l476up4lI2P1",
        "outputId": "1ce6144a-f9a8-436e-b8ac-6f46b32bb05b"
      },
      "execution_count": 29,
      "outputs": [
        {
          "output_type": "stream",
          "name": "stdout",
          "text": [
            "Los Francisco\n"
          ]
        }
      ]
    },
    {
      "cell_type": "code",
      "source": [],
      "metadata": {
        "id": "CiuoiqSQJjnp"
      },
      "execution_count": null,
      "outputs": []
    },
    {
      "cell_type": "markdown",
      "source": [
        "#Exercise 3: Using Lists\n",
        "Create a list of tuples, where each tuple contains the name of a city and its corresponding latitude and longitude:\n",
        "\n",
        "New York City: (40.7128, -74.0060)\n",
        "\n",
        "Los Angeles: (34.0522, -118.2437)\n",
        "\n",
        "Chicago: (41.8781, -87.6298)\n",
        "\n",
        "Perform the following tasks:\n",
        "\n",
        "Add a new city (e.g., Miami: (25.7617, -80.1918)) to the list.\n",
        "\n",
        "Print the entire list of cities.\n",
        "\n",
        "Slice the list to print only the first two cities."
      ],
      "metadata": {
        "id": "wKpb04etKnyG"
      }
    },
    {
      "cell_type": "code",
      "source": [
        "cities = [(\"New York City\" ,40.7128, -74.0060),\n",
        "          (\"Los Angeles\",34.0522, -118.2437),\n",
        "          (\"Chicago\",41.8781, -87.6298)]"
      ],
      "metadata": {
        "id": "PnsXRjTyKogu"
      },
      "execution_count": 39,
      "outputs": []
    },
    {
      "cell_type": "code",
      "source": [
        "for city,lat,long in cities:\n",
        "    print(f'city : {city}\\n latitude : {lat}\\n longitude : {long}')"
      ],
      "metadata": {
        "colab": {
          "base_uri": "https://localhost:8080/"
        },
        "id": "eNlysTQBLHh8",
        "outputId": "6a6fac98-612d-44b9-83bd-8c73d3bfb9c3"
      },
      "execution_count": 37,
      "outputs": [
        {
          "output_type": "stream",
          "name": "stdout",
          "text": [
            "city : New York City\n",
            " latitude : 40.7128\n",
            " longitude : -74.006\n",
            "city : Los Angeles\n",
            " latitude : 34.0522\n",
            " longitude : -118.2437\n",
            "city : Chicago\n",
            " latitude : 41.8781\n",
            " longitude : -87.6298\n"
          ]
        }
      ]
    },
    {
      "cell_type": "code",
      "source": [
        "#Slice the list to print only the first two cities.\n",
        "cities[:2]"
      ],
      "metadata": {
        "colab": {
          "base_uri": "https://localhost:8080/"
        },
        "id": "HcIG4Fw7MJ1u",
        "outputId": "4b284352-6636-4ada-f17d-3ad050c09477"
      },
      "execution_count": 38,
      "outputs": [
        {
          "output_type": "execute_result",
          "data": {
            "text/plain": [
              "[('New York City', 40.7128, -74.006), ('Los Angeles', 34.0522, -118.2437)]"
            ]
          },
          "metadata": {},
          "execution_count": 38
        }
      ]
    },
    {
      "cell_type": "code",
      "source": [
        "#List Operations Sort the list of cities alphabetically by name. Create a new list that contains only the city names.\n",
        "##Remove the last city from the original list and print the updated list.\n",
        "cities = [(\"New York City\", 40.7128, -74.0060),\n",
        "          (\"Los Angeles\", 34.0522, -118.2437),\n",
        "          (\"Chicago\", 41.8781, -87.6298)]\n",
        "\n",
        "\n",
        "sorted_cities = sorted(cities, key=lambda city: city[0])\n",
        "print(\"Sorted Cities:\", sorted_cities)\n",
        "\n",
        "\n",
        "city_names = [city[0] for city in sorted_cities]\n",
        "print(\"City Names:\", city_names)\n",
        "\n",
        "cities.pop()\n",
        "print(\"Updated List:\", cities)\n"
      ],
      "metadata": {
        "colab": {
          "base_uri": "https://localhost:8080/"
        },
        "id": "KJtPIjtCNJkH",
        "outputId": "3af31cf8-01d0-43f9-d1cb-e0767f3f30ed"
      },
      "execution_count": 79,
      "outputs": [
        {
          "output_type": "stream",
          "name": "stdout",
          "text": [
            "Sorted Cities: [('Chicago', 41.8781, -87.6298), ('Los Angeles', 34.0522, -118.2437), ('New York City', 40.7128, -74.006)]\n",
            "City Names: ['Chicago', 'Los Angeles', 'New York City']\n",
            "Updated List: [('New York City', 40.7128, -74.006), ('Los Angeles', 34.0522, -118.2437)]\n"
          ]
        }
      ]
    },
    {
      "cell_type": "markdown",
      "source": [
        "#Exercise 4:\n",
        "Using Tuples Create a tuple to store the coordinates (latitude, longitude) of the Eiffel Tower: (48.8584, 2.2945). Perform the following tasks: Access and print the latitude and longitude values from the tuple. Try to change the latitude value to 48.8585. What happens? Explain why."
      ],
      "metadata": {
        "id": "9VVVO_eAOt_x"
      }
    },
    {
      "cell_type": "code",
      "source": [
        "info = (\"Effiel tower\",48.8584,2.2945)\n",
        "latitude = info[1]\n",
        "longitude = info[2]\n",
        "print(f\"Latitude: {latitude}, \\nLongitude: {longitude}\")"
      ],
      "metadata": {
        "colab": {
          "base_uri": "https://localhost:8080/"
        },
        "id": "DPvfuoH4Nbj6",
        "outputId": "cfcd56d7-0245-460c-a53f-678057cd2e76"
      },
      "execution_count": 49,
      "outputs": [
        {
          "output_type": "stream",
          "name": "stdout",
          "text": [
            "Latitude: 48.8584, \n",
            "Longitude: 2.2945\n"
          ]
        }
      ]
    },
    {
      "cell_type": "code",
      "source": [
        "place, lat, long = info\n",
        "print(f\"Latitude: {lat} \\nLongitude: {long}\")\n"
      ],
      "metadata": {
        "colab": {
          "base_uri": "https://localhost:8080/"
        },
        "id": "jESdOR6HNsRd",
        "outputId": "509ca17c-a145-4c67-cde2-e1277d1ddcbe"
      },
      "execution_count": 44,
      "outputs": [
        {
          "output_type": "stream",
          "name": "stdout",
          "text": [
            "Latitude: 48.8584 \n",
            "Longitude: 2.2945\n"
          ]
        }
      ]
    },
    {
      "cell_type": "code",
      "source": [
        "#since tuples are immutabe it cant be chnaged"
      ],
      "metadata": {
        "id": "t_xKxCq8OKzr"
      },
      "execution_count": null,
      "outputs": []
    },
    {
      "cell_type": "markdown",
      "source": [
        "#Exercise 5: Working with Sets\n",
        "Create a set of countries you have visited, such as {“USA”, “France”, “Germany”}. Perform the following tasks:\n",
        "\n",
        "Add a new country to the set.\n",
        "\n",
        "Try to add the same country again. What happens?\n",
        "\n",
        "Print the updated set."
      ],
      "metadata": {
        "id": "eoQ9B8pRRQjT"
      }
    },
    {
      "cell_type": "code",
      "source": [
        "tours = ['USA', 'France','Germany']"
      ],
      "metadata": {
        "id": "Knh3xYTqRS9-"
      },
      "execution_count": 51,
      "outputs": []
    },
    {
      "cell_type": "code",
      "source": [
        "tours = set(tours)"
      ],
      "metadata": {
        "id": "JAwmawO2RZr_"
      },
      "execution_count": 52,
      "outputs": []
    },
    {
      "cell_type": "code",
      "source": [
        "tours.add(\"pakistan\")"
      ],
      "metadata": {
        "id": "xNwv5qwnRqez"
      },
      "execution_count": 56,
      "outputs": []
    },
    {
      "cell_type": "code",
      "source": [
        "print(tours\n",
        "      )"
      ],
      "metadata": {
        "colab": {
          "base_uri": "https://localhost:8080/"
        },
        "id": "pNlAxsr4RurJ",
        "outputId": "c8c5cbb3-0bb1-4bee-cdc9-17d8431ea093"
      },
      "execution_count": 58,
      "outputs": [
        {
          "output_type": "stream",
          "name": "stdout",
          "text": [
            "{'pakistan', 'USA', 'France', 'Germany'}\n"
          ]
        }
      ]
    },
    {
      "cell_type": "code",
      "source": [
        "#dictoionary\n",
        "river = {\"river\" :\"Amazon River\",\n",
        "\"Length\":6400,\n",
        "\"Course\": ['Brazil',\"Peru\",\"Colombia\"]}"
      ],
      "metadata": {
        "id": "D7zScpyzR8R8"
      },
      "execution_count": 63,
      "outputs": []
    },
    {
      "cell_type": "code",
      "source": [
        "# Add a new key-value pair to the dictionary to store the river’s average\n",
        "# discharge (e.g., 209,000 m³/s).\n",
        "river[\" discharge\"] = 209000"
      ],
      "metadata": {
        "id": "-J8yD7euUV4H"
      },
      "execution_count": 65,
      "outputs": []
    },
    {
      "cell_type": "code",
      "source": [
        "print(river)"
      ],
      "metadata": {
        "colab": {
          "base_uri": "https://localhost:8080/"
        },
        "id": "u78pDMgTU-0Q",
        "outputId": "379a5707-6db3-4b3f-e0d7-a96ec6248250"
      },
      "execution_count": 67,
      "outputs": [
        {
          "output_type": "stream",
          "name": "stdout",
          "text": [
            "{'river': 'Amazon River', 'Length': 6400, 'Course': ['Brazil', 'Peru', 'Colombia'], ' discharge': 209000}\n"
          ]
        }
      ]
    },
    {
      "cell_type": "code",
      "source": [
        "river[\"Length\"] = 6500"
      ],
      "metadata": {
        "id": "6aQ6IMOrVbMd"
      },
      "execution_count": 68,
      "outputs": []
    },
    {
      "cell_type": "code",
      "source": [
        "print(river)"
      ],
      "metadata": {
        "colab": {
          "base_uri": "https://localhost:8080/"
        },
        "id": "hTVZzyVuXekk",
        "outputId": "3434fe4e-bf43-451e-8410-58777170feab"
      },
      "execution_count": 69,
      "outputs": [
        {
          "output_type": "stream",
          "name": "stdout",
          "text": [
            "{'river': 'Amazon River', 'Length': 6500, 'Course': ['Brazil', 'Peru', 'Colombia'], ' discharge': 209000}\n"
          ]
        }
      ]
    },
    {
      "cell_type": "code",
      "source": [
        "if 'Length' in river:\n",
        "  print('Length is in the dictionary')\n",
        "else:\n",
        "  print('Length is not in the dictionary')\n",
        "\n",
        "print(list(river.keys()))\n",
        "print(list(river.values()))"
      ],
      "metadata": {
        "colab": {
          "base_uri": "https://localhost:8080/"
        },
        "id": "aaTe2jx8bZxt",
        "outputId": "92225a9c-648d-44e6-df2e-b9c8b7076ca0"
      },
      "execution_count": 87,
      "outputs": [
        {
          "output_type": "stream",
          "name": "stdout",
          "text": [
            "Length is in the dictionary\n",
            "['river', 'Length', 'Course', ' discharge']\n",
            "['Amazon River', 6500, ['Brazil', 'Peru', 'Colombia'], 209000]\n"
          ]
        }
      ]
    },
    {
      "cell_type": "code",
      "source": [
        "city_attributes = { \"city\" :\"lahore\",\n",
        "\"pop\":640045678900987,\n",
        "\"Coordinates\":(35.6895, 139.6917)\n",
        "}"
      ],
      "metadata": {
        "id": "2hQKicOxXgwD"
      },
      "execution_count": 70,
      "outputs": []
    },
    {
      "cell_type": "code",
      "source": [
        "print(city_attributes[\"city\"])"
      ],
      "metadata": {
        "colab": {
          "base_uri": "https://localhost:8080/"
        },
        "id": "k43ikMFHYmao",
        "outputId": "06b30cd7-502f-456f-9d98-d49679c94dbe"
      },
      "execution_count": 72,
      "outputs": [
        {
          "output_type": "stream",
          "name": "stdout",
          "text": [
            "lahore\n"
          ]
        }
      ]
    },
    {
      "cell_type": "code",
      "source": [
        "#Access and print the city’s latitude\n",
        "print(city_attributes[\"Coordinates\"][0])"
      ],
      "metadata": {
        "colab": {
          "base_uri": "https://localhost:8080/"
        },
        "id": "sP835l5rYsCo",
        "outputId": "d744c7d1-f226-4fc6-9c1e-b215c7520998"
      },
      "execution_count": 77,
      "outputs": [
        {
          "output_type": "stream",
          "name": "stdout",
          "text": [
            "35.6895\n"
          ]
        }
      ]
    },
    {
      "cell_type": "code",
      "source": [
        "locations = [\n",
        "    (\"Mount Everest\", 27.9881, 86.9250),\n",
        "    (\"K2\", 35.8808, 76.5155),\n",
        "    (\"Kangchenjunga\", 27.7025, 88.1475),\n",
        "]"
      ],
      "metadata": {
        "id": "XG_C2yy8Y2Ad"
      },
      "execution_count": 94,
      "outputs": []
    },
    {
      "cell_type": "code",
      "source": [
        "locations = [location[0] for location in locations]\n",
        "print(locations)"
      ],
      "metadata": {
        "colab": {
          "base_uri": "https://localhost:8080/"
        },
        "id": "eGFooG2scxYH",
        "outputId": "80eaa88c-37dd-4dd5-a40e-81d02919e4e8"
      },
      "execution_count": 98,
      "outputs": [
        {
          "output_type": "stream",
          "name": "stdout",
          "text": [
            "['M', 'K', 'K']\n"
          ]
        }
      ]
    },
    {
      "cell_type": "code",
      "source": [
        "locations = [\n",
        "    (\"Mount Everest\", 27.9881, 86.9250),\n",
        "    (\"K2\", 35.8808, 76.5155),\n",
        "    (\"Kangchenjunga\", 27.7025, 88.1475)\n",
        "]\n",
        "\n",
        "location_names = [location[0] for location in locations]\n",
        "print(\"Location Names:\", location_names)\n"
      ],
      "metadata": {
        "colab": {
          "base_uri": "https://localhost:8080/"
        },
        "id": "jBRAKYr5dK9b",
        "outputId": "bfb090c6-f4d0-4245-af0e-abf683d7dd76"
      },
      "execution_count": 102,
      "outputs": [
        {
          "output_type": "stream",
          "name": "stdout",
          "text": [
            "Location Names: ['Mount Everest', 'K2', 'Kangchenjunga']\n"
          ]
        }
      ]
    },
    {
      "cell_type": "code",
      "source": [
        "locations = {\n",
        "    \"Mount Everest\" : (27.9881, 86.9250),\n",
        "    \"K2\" : (35.8808, 76.5155),\n",
        "    \"Kangchenjunga\" : (27.7025, 88.1475),\n",
        "}"
      ],
      "metadata": {
        "id": "hMAhez-zd0SH"
      },
      "execution_count": 109,
      "outputs": []
    },
    {
      "cell_type": "code",
      "source": [
        "\n",
        "locations[\"K2\"][0]"
      ],
      "metadata": {
        "colab": {
          "base_uri": "https://localhost:8080/"
        },
        "id": "Scva_1gyeM4l",
        "outputId": "7fd88ad2-ccf1-4e22-b943-0ab28d2137b4"
      },
      "execution_count": 111,
      "outputs": [
        {
          "output_type": "execute_result",
          "data": {
            "text/plain": [
              "35.8808"
            ]
          },
          "metadata": {},
          "execution_count": 111
        }
      ]
    },
    {
      "cell_type": "code",
      "source": [],
      "metadata": {
        "id": "yoFZoNZ_en74"
      },
      "execution_count": null,
      "outputs": []
    }
  ]
}